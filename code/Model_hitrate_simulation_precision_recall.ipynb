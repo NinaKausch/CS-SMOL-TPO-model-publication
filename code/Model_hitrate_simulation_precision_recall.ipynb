{
 "cells": [
  {
   "cell_type": "code",
   "execution_count": 1,
   "metadata": {},
   "outputs": [],
   "source": [
    "import numpy as np\n",
    "import pandas as pd"
   ]
  },
  {
   "cell_type": "markdown",
   "metadata": {},
   "source": [
    "# set screen variables for simulation"
   ]
  },
  {
   "cell_type": "code",
   "execution_count": 2,
   "metadata": {},
   "outputs": [],
   "source": [
    "#Number of tested compounds (default: 10T)\n",
    "\n",
    "tested = 100000\n",
    "\n",
    "#Assumed Hitrate TPO (default: 8%)\n",
    "\n",
    "Hitrate_TPO = 0.08\n",
    "\n",
    "# This is the hitrate of aromatase!!!\n",
    "#Hitrate_TPO = 0.10\n",
    "\n",
    "#Assumed Hitrate desired biological activity (default: 1%)\n",
    "\n",
    "Hitrate_Bio = 0.01\n",
    "# Assumed Project hitrate\n",
    "#Hitrate_Bio = 0.7"
   ]
  },
  {
   "cell_type": "markdown",
   "metadata": {},
   "source": [
    "# set model variables for simulation"
   ]
  },
  {
   "cell_type": "code",
   "execution_count": 5,
   "metadata": {},
   "outputs": [],
   "source": [
    "data = {\n",
    "    'Model': ['gbt', \n",
    "              'catboost'], \n",
    "              #'mother', \n",
    "              #'Aromatase'], \n",
    "    'recall': [0.4, \n",
    "               0.8], \n",
    "               #0.31, \n",
    "               #0.39], \n",
    "    'precision':[0.8, \n",
    "                 0.40] \n",
    "                # 0.85, \n",
    "                # 0.80]\n",
    "}\n",
    "\n",
    "df = pd.DataFrame.from_dict(data)"
   ]
  },
  {
   "cell_type": "markdown",
   "metadata": {},
   "source": [
    "precision =0.8560606060606061\n",
    "recall =0.31301939058171746\n",
    "TP =0.05006645990252548\n",
    "FP =0.008418254319893664\n",
    "TN =0.8316349136021267\n",
    "FN =0.10988037217545414"
   ]
  },
  {
   "cell_type": "markdown",
   "metadata": {},
   "source": [
    "# calculate relevant metrics of screen without model"
   ]
  },
  {
   "cell_type": "code",
   "execution_count": 6,
   "metadata": {},
   "outputs": [
    {
     "name": "stdout",
     "output_type": "stream",
     "text": [
      "all TPO-hits:8000.0\n",
      "all cpds with desired biological activity:1000.0\n",
      "Intersect_TPO_Bio:80.0\n",
      "desired_hits:920.0\n",
      "not biologically active TPO-hits:7920.000000000001\n",
      "inactive biologically & TPO:91080.0\n",
      "True\n"
     ]
    }
   ],
   "source": [
    "## Intersect TPO/Biol (assumption: variables are independent of each other this can be skipped)\n",
    "\n",
    "## All TPO hits\n",
    "all_TPO = tested*Hitrate_TPO\n",
    "print('all TPO-hits:'+str(all_TPO))\n",
    "\n",
    "## All compounds with desired biological activity\n",
    "all_bio = tested*Hitrate_Bio\n",
    "print('all cpds with desired biological activity:'+ str(all_bio))\n",
    "\n",
    "#Intersect_TPO_BIO: Bio and TPO active --> biologically active compounds we throw away\n",
    "\n",
    "Intersect_TPO_Bio = (Hitrate_Bio * Hitrate_TPO)*tested\n",
    "print('Intersect_TPO_Bio:'+ str(Intersect_TPO_Bio))\n",
    "\n",
    "#desired hits: TPO inactive, bioactive\n",
    "\n",
    "desired_hits = (Hitrate_Bio * (1-Hitrate_TPO))*tested\n",
    "print('desired_hits:'+ str(desired_hits))\n",
    "\n",
    "# not biologically active TPO-hits\n",
    "\n",
    "TPO_active_bio_not = ((1-Hitrate_Bio) * (Hitrate_TPO))*tested\n",
    "print('not biologically active TPO-hits:'+ str(TPO_active_bio_not))\n",
    "\n",
    "# TPO und Bio nicht aktiv\n",
    "\n",
    "TPO_Bio_inactive = ((1-Hitrate_Bio) * (1-Hitrate_TPO))*tested\n",
    "print('inactive biologically & TPO:'+ str(TPO_Bio_inactive))\n",
    "\n",
    "# Sanity test\n",
    "all = Intersect_TPO_Bio + desired_hits + TPO_active_bio_not + TPO_Bio_inactive\n",
    "print (all==tested)"
   ]
  },
  {
   "cell_type": "markdown",
   "metadata": {},
   "source": [
    "# notebook utils"
   ]
  },
  {
   "cell_type": "code",
   "execution_count": 7,
   "metadata": {},
   "outputs": [],
   "source": [
    "def calc_TP(recall:float, hitrate:float, tested:float) -> float:\n",
    "    ''' How many true positives does a model with a given recall produce for a fixed number of tested compounds: \n",
    "    FP + TP = Hitrate_TPO\n",
    "    recall = TP / Hitrate TPO --> TP = recall * Hitrate TPO'''    \n",
    "    TP = recall*hitrate*tested    \n",
    "    return TP\n",
    "\n",
    "def calc_FP(precision:float,TP:float, tested:float) -> float:\n",
    "    '''How many false positives does a model with a given precision produce for a fixed number of tested compounds:\n",
    "    precision = TP/(TP + FP) --> FP = (TP/precision)-TP    '''\n",
    "    FP = (TP/(precision))-TP    \n",
    "    return FP\n",
    "\n",
    "def calc_FN(recall:float, TP:float)-> float:\n",
    "    '''How many false negatives are produced by a model with a given recall:\n",
    "    recall = TP/(TP+FN) --> FN = (TP/recall)-TP'''    \n",
    "    FN = (TP/recall)-TP    \n",
    "    return FN\n",
    "\n",
    "def calc_TN(TP:float, FP:float, FN:float, tested:float)-> float:\n",
    "    '''How many true negatives are produced by a model with a given precision and recall (i.e. TP, FP, FN and tested known)'''    \n",
    "    TN = tested - (TP+FP+FN)    \n",
    "    return TN"
   ]
  },
  {
   "cell_type": "code",
   "execution_count": 8,
   "metadata": {},
   "outputs": [],
   "source": [
    "# If models are applied only substances that are predicted safe are allowed for biological screening (i.e. FN, TN). TN and TP are removed and replaced by more compounds that are predicted safe from the \"infinite\" screening pool.\n",
    "\n",
    "def TPO_hit_assigned(TP:float, FP:float)-> float:\n",
    "    pred_hit = TP + FP\n",
    "    return pred_hit\n",
    "\n",
    "def TPO_safe_assigned(pred_hit:float, tested:float)-> float:\n",
    "    pred_safe = tested - pred_hit\n",
    "    return pred_safe\n",
    "\n",
    "def calc_desired_hits_model(TN:float, Hitrate_Bio:float)-> float:\n",
    "    '''These are desired hits allowed for testing if model is applied: no TPO inhibitor but biologically active'''\n",
    "    desired_hits_model = (TN*Hitrate_Bio)\n",
    "    return desired_hits_model\n",
    "\n",
    "def calc_TPO_hits_model(FN:float, Hitrate_Bio:float)-> float:\n",
    "    '''These are TPO hits with desired biological activbity allowed for screening even though model was applied'''\n",
    "    TPO_hits_model = (FN*Hitrate_Bio)\n",
    "    return TPO_hits_model\n",
    "\n",
    "def calc_desired_hits_missed(FP:float, Hitrate_Bio:float)-> float:\n",
    "    '''These are desired hits that are filtered out because model was applied'''\n",
    "    desired_hits_missed = (FP*Hitrate_Bio)\n",
    "    return desired_hits_missed\n",
    "\n",
    "def calc_desired_hit_number_after_model_use(desired_hits_model:float, pred_safe:float, tested:float)-> float:\n",
    "    '''If model is used we can expect a hitrate given by number of desired hits divided by number of allowed compounds; This is expeced to stay constant if screen is filled up with more compounds predicted safe'''\n",
    "    hit_number = (desired_hits_model/pred_safe)*tested\n",
    "    return hit_number\n",
    "\n",
    "def calc_TPO_hits_not_removed(TPO_hits_model:float, pred_safe:float, tested:float)-> float: \n",
    "    bad_hit_number = (TPO_hits_model/pred_safe)*tested\n",
    "    return bad_hit_number"
   ]
  },
  {
   "cell_type": "code",
   "execution_count": 9,
   "metadata": {},
   "outputs": [],
   "source": [
    "# sanity checks: calculate precision from derived values, calculate number of tested compounds from derived values\n",
    "def calc_precision (TP:float, FP:float, tested:float)-> float:\n",
    "    precision = ((TP/(TP + FP)))\n",
    "    return precision\n",
    "\n",
    "def calc_tested(pred_hit:float, pred_safe:float)-> float:\n",
    "    calc_tested = pred_hit + pred_safe\n",
    "    return calc_tested"
   ]
  },
  {
   "cell_type": "markdown",
   "metadata": {},
   "source": [
    "# Calculation"
   ]
  },
  {
   "cell_type": "code",
   "execution_count": 10,
   "metadata": {},
   "outputs": [],
   "source": [
    "# calculate confusion matrix for a given dataset and given model recall/precision\n",
    "df['TP'] = df.apply(lambda row: calc_TP(row['recall'], hitrate = Hitrate_TPO, tested = tested), axis=1)\n",
    "df['FP'] = df.apply(lambda row: calc_FP(row['precision'], row['TP'], tested = tested), axis=1)\n",
    "df['FN'] = df.apply(lambda row: calc_FN(row['recall'], row['TP']), axis=1)\n",
    "df['TN'] = df.apply(lambda row: calc_TN(row['TP'], row['FP'],  row['FN'], tested = tested), axis=1)"
   ]
  },
  {
   "cell_type": "code",
   "execution_count": 11,
   "metadata": {},
   "outputs": [],
   "source": [
    "# calculate effect of model use on screen\n",
    "df['pred_hit'] = df.apply(lambda row: TPO_hit_assigned(row['FP'], row['TP']), axis=1)\n",
    "df['pred_safe'] = df.apply(lambda row: TPO_safe_assigned(row['pred_hit'], tested = tested), axis=1)\n",
    "df['desired_hits_model'] = df.apply(lambda row: calc_desired_hits_model(row['TN'], Hitrate_Bio), axis=1)\n",
    "df['TPO_hits_model'] = df.apply(lambda row: calc_TPO_hits_model(row['FN'], Hitrate_Bio), axis=1)\n",
    "df['desired_hits_missed'] = df.apply(lambda row: calc_desired_hits_missed(row['FP'], Hitrate_Bio), axis=1)\n",
    "df['hit_number'] = df.apply(lambda row: calc_desired_hit_number_after_model_use(row['desired_hits_model'], row['pred_safe'], tested), axis=1)\n",
    "df['bad_hit_number'] = df.apply(lambda row: calc_TPO_hits_not_removed(row['TPO_hits_model'], row['pred_safe'], tested), axis=1)"
   ]
  },
  {
   "cell_type": "code",
   "execution_count": 12,
   "metadata": {},
   "outputs": [],
   "source": [
    "# calculate sanity checks\n",
    "df['calc_precision'] = df.apply(lambda row: calc_precision(row['TP'], row['FP'], tested = tested), axis=1)\n",
    "df['calc_tested'] = df.apply(lambda row: calc_tested(row['pred_hit'], row['pred_safe']), axis=1)\n",
    "df['sum_TP_FP_TN_FN']= df.apply(lambda row:(row['TP'] + row['FP'] + row['TN'] + row['FN']), axis=1)"
   ]
  },
  {
   "cell_type": "code",
   "execution_count": 13,
   "metadata": {},
   "outputs": [
    {
     "data": {
      "text/html": [
       "<div>\n",
       "<style scoped>\n",
       "    .dataframe tbody tr th:only-of-type {\n",
       "        vertical-align: middle;\n",
       "    }\n",
       "\n",
       "    .dataframe tbody tr th {\n",
       "        vertical-align: top;\n",
       "    }\n",
       "\n",
       "    .dataframe thead th {\n",
       "        text-align: right;\n",
       "    }\n",
       "</style>\n",
       "<table border=\"1\" class=\"dataframe\">\n",
       "  <thead>\n",
       "    <tr style=\"text-align: right;\">\n",
       "      <th></th>\n",
       "      <th>Model</th>\n",
       "      <th>recall</th>\n",
       "      <th>precision</th>\n",
       "      <th>TP</th>\n",
       "      <th>FP</th>\n",
       "      <th>FN</th>\n",
       "      <th>TN</th>\n",
       "      <th>pred_hit</th>\n",
       "      <th>pred_safe</th>\n",
       "      <th>desired_hits_model</th>\n",
       "      <th>TPO_hits_model</th>\n",
       "      <th>desired_hits_missed</th>\n",
       "      <th>hit_number</th>\n",
       "      <th>bad_hit_number</th>\n",
       "      <th>calc_precision</th>\n",
       "      <th>calc_tested</th>\n",
       "      <th>sum_TP_FP_TN_FN</th>\n",
       "    </tr>\n",
       "  </thead>\n",
       "  <tbody>\n",
       "    <tr>\n",
       "      <th>0</th>\n",
       "      <td>gbt</td>\n",
       "      <td>0.4</td>\n",
       "      <td>0.8</td>\n",
       "      <td>3200.0</td>\n",
       "      <td>800.0</td>\n",
       "      <td>4800.0</td>\n",
       "      <td>91200.0</td>\n",
       "      <td>4000.0</td>\n",
       "      <td>96000.0</td>\n",
       "      <td>912.0</td>\n",
       "      <td>48.0</td>\n",
       "      <td>8.0</td>\n",
       "      <td>950.000000</td>\n",
       "      <td>50.000000</td>\n",
       "      <td>0.8</td>\n",
       "      <td>100000.0</td>\n",
       "      <td>100000.0</td>\n",
       "    </tr>\n",
       "    <tr>\n",
       "      <th>1</th>\n",
       "      <td>catboost</td>\n",
       "      <td>0.8</td>\n",
       "      <td>0.4</td>\n",
       "      <td>6400.0</td>\n",
       "      <td>9600.0</td>\n",
       "      <td>1600.0</td>\n",
       "      <td>82400.0</td>\n",
       "      <td>16000.0</td>\n",
       "      <td>84000.0</td>\n",
       "      <td>824.0</td>\n",
       "      <td>16.0</td>\n",
       "      <td>96.0</td>\n",
       "      <td>980.952381</td>\n",
       "      <td>19.047619</td>\n",
       "      <td>0.4</td>\n",
       "      <td>100000.0</td>\n",
       "      <td>100000.0</td>\n",
       "    </tr>\n",
       "  </tbody>\n",
       "</table>\n",
       "</div>"
      ],
      "text/plain": [
       "      Model  recall  precision      TP      FP      FN       TN  pred_hit  \\\n",
       "0       gbt     0.4        0.8  3200.0   800.0  4800.0  91200.0    4000.0   \n",
       "1  catboost     0.8        0.4  6400.0  9600.0  1600.0  82400.0   16000.0   \n",
       "\n",
       "   pred_safe  desired_hits_model  TPO_hits_model  desired_hits_missed  \\\n",
       "0    96000.0               912.0            48.0                  8.0   \n",
       "1    84000.0               824.0            16.0                 96.0   \n",
       "\n",
       "   hit_number  bad_hit_number  calc_precision  calc_tested  sum_TP_FP_TN_FN  \n",
       "0  950.000000       50.000000             0.8     100000.0         100000.0  \n",
       "1  980.952381       19.047619             0.4     100000.0         100000.0  "
      ]
     },
     "execution_count": 13,
     "metadata": {},
     "output_type": "execute_result"
    }
   ],
   "source": [
    "df"
   ]
  },
  {
   "cell_type": "code",
   "execution_count": 42,
   "metadata": {},
   "outputs": [],
   "source": [
    "#precision =0.8560606060606061\n",
    "#recall =0.31301939058171746\n",
    "TP_check =(0.05006645990252548*4514)\n",
    "FP_check =(0.008418254319893664*4514)\n",
    "TN_check =(0.8316349136021267*4514)\n",
    "FN_check =(0.10988037217545414*4514)"
   ]
  },
  {
   "cell_type": "code",
   "execution_count": 43,
   "metadata": {},
   "outputs": [
    {
     "name": "stdout",
     "output_type": "stream",
     "text": [
      "226.0\n",
      "38.0\n",
      "496.0\n",
      "3754.0\n"
     ]
    }
   ],
   "source": [
    "print(TP_check)\n",
    "print(FP_check)\n",
    "print(FN_check)\n",
    "print(TN_check)"
   ]
  },
  {
   "cell_type": "code",
   "execution_count": null,
   "metadata": {},
   "outputs": [],
   "source": []
  }
 ],
 "metadata": {
  "kernelspec": {
   "display_name": "Python 3 (ipykernel)",
   "language": "python",
   "name": "python3"
  },
  "language_info": {
   "codemirror_mode": {
    "name": "ipython",
    "version": 3
   },
   "file_extension": ".py",
   "mimetype": "text/x-python",
   "name": "python",
   "nbconvert_exporter": "python",
   "pygments_lexer": "ipython3",
   "version": "3.9.13"
  }
 },
 "nbformat": 4,
 "nbformat_minor": 4
}
